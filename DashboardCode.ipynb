{
 "cells": [
  {
   "cell_type": "code",
   "execution_count": 1,
   "metadata": {},
   "outputs": [],
   "source": [
    "import pandas as pd"
   ]
  },
  {
   "cell_type": "markdown",
   "metadata": {},
   "source": [
    "Metricas"
   ]
  },
  {
   "cell_type": "code",
   "execution_count": 2,
   "metadata": {},
   "outputs": [
    {
     "name": "stdout",
     "output_type": "stream",
     "text": [
      "Read file: amaia_hector.xlsx\n",
      "Read file: amaia_nico.xlsx\n",
      "Read file: amaia_silvina.xlsx\n",
      "Read file: curro_amaia.xlsx\n",
      "Read file: curro_hector.xlsx\n",
      "Read file: curro_nico.xlsx\n",
      "Read file: curro_silvina.xlsx\n",
      "Read file: hector_nico.xlsx\n",
      "Read file: silvina_hector.xlsx\n",
      "Read file: silvina_nico.xlsx\n",
      "Files concatenated successfully.\n",
      "Concatenated file saved as: ./metricas.xlsx\n"
     ]
    }
   ],
   "source": [
    "import os\n",
    "import pandas as pd\n",
    "\n",
    "def read_and_concat_excel_files(folder_path, output_file):\n",
    "    # List to hold DataFrames\n",
    "    dataframes = []\n",
    "    \n",
    "    # Loop through all files in the folder\n",
    "    for file in os.listdir(folder_path):\n",
    "        if file.endswith(\".xlsx\"):  # Check if the file is an Excel file\n",
    "            file_path = os.path.join(folder_path, file)\n",
    "            try:\n",
    "                # Read the Excel file\n",
    "                df = pd.read_excel(file_path)\n",
    "                dataframes.append(df)\n",
    "                print(f\"Read file: {file}\")\n",
    "            except Exception as e:\n",
    "                print(f\"Error reading {file}: {e}\")\n",
    "    \n",
    "    # Concatenate all DataFrames\n",
    "    if dataframes:\n",
    "        concatenated_df = pd.concat(dataframes, ignore_index=True)\n",
    "        print(\"Files concatenated successfully.\")\n",
    "        \n",
    "        try:\n",
    "            # Save to an Excel file\n",
    "            concatenated_df.to_excel(output_file, index=False, engine='openpyxl')\n",
    "            print(f\"Concatenated file saved as: {output_file}\")\n",
    "        except Exception as e:\n",
    "            print(f\"Error saving file: {e}\")\n",
    "    else:\n",
    "        print(\"No Excel files found in the folder.\")\n",
    "\n",
    "# Example usage\n",
    "folder_path = \"./metricas/\"  # Replace with the path to your folder\n",
    "output_file = \"./metricas.xlsx\"  # Replace with the desired output file name\n",
    "read_and_concat_excel_files(folder_path, output_file)\n"
   ]
  },
  {
   "cell_type": "code",
   "execution_count": 3,
   "metadata": {},
   "outputs": [
    {
     "name": "stdout",
     "output_type": "stream",
     "text": [
      "Read file: Amaia_tracks_artists_genres.xlsx\n",
      "Read file: Curro_tracks_artists_genres.xlsx\n",
      "Read file: Hector_tracks_artists_genres.xlsx\n",
      "Read file: Nicolás_tracks_artists_genres.xlsx\n",
      "Read file: Silvina_tracks_artists_genres.xlsx\n",
      "Files concatenated successfully.\n",
      "Concatenated file saved as: ./grafos.xlsx\n"
     ]
    }
   ],
   "source": [
    "import os\n",
    "import pandas as pd\n",
    "\n",
    "def read_and_concat_excel_files(folder_path, output_file):\n",
    "    # List to hold DataFrames\n",
    "    dataframes = []\n",
    "    \n",
    "    # Loop through all files in the folder\n",
    "    for file in os.listdir(folder_path):\n",
    "        if file.endswith(\".xlsx\"):  # Check if the file is an Excel file\n",
    "            file_path = os.path.join(folder_path, file)\n",
    "            try:\n",
    "                # Read the Excel file\n",
    "                df = pd.read_excel(file_path)\n",
    "                dataframes.append(df)\n",
    "                print(f\"Read file: {file}\")\n",
    "            except Exception as e:\n",
    "                print(f\"Error reading {file}: {e}\")\n",
    "    \n",
    "    # Concatenate all DataFrames\n",
    "    if dataframes:\n",
    "        concatenated_df = pd.concat(dataframes, ignore_index=True)\n",
    "        print(\"Files concatenated successfully.\")\n",
    "        \n",
    "        try:\n",
    "            # Save to an Excel file\n",
    "            concatenated_df.to_excel(output_file, index=False, engine='openpyxl')\n",
    "            print(f\"Concatenated file saved as: {output_file}\")\n",
    "        except Exception as e:\n",
    "            print(f\"Error saving file: {e}\")\n",
    "    else:\n",
    "        print(\"No Excel files found in the folder.\")\n",
    "\n",
    "# Example usage\n",
    "folder_path = \"./grafos/\"  # Replace with the path to your folder\n",
    "output_file = \"./grafos.xlsx\"  # Replace with the desired output file name\n",
    "read_and_concat_excel_files(folder_path, output_file)\n"
   ]
  },
  {
   "cell_type": "code",
   "execution_count": 5,
   "metadata": {},
   "outputs": [
    {
     "name": "stdout",
     "output_type": "stream",
     "text": [
      "Read file: Silvina_tracks_artists_genres_long.xlsx\n",
      "Read file: Silvina_tracks_artists_genres_medium.xlsx\n",
      "Read file: Silvina_tracks_artists_genres_short.xlsx\n",
      "Files concatenated successfully.\n",
      "Concatenated file saved as: ./tiempos.xlsx\n"
     ]
    }
   ],
   "source": [
    "import os\n",
    "import pandas as pd\n",
    "\n",
    "def read_and_concat_excel_files(folder_path, output_file):\n",
    "    # List to hold DataFrames\n",
    "    dataframes = []\n",
    "    \n",
    "    # Loop through all files in the folder\n",
    "    for file in os.listdir(folder_path):\n",
    "        if file.endswith(\".xlsx\"):  # Check if the file is an Excel file\n",
    "            file_path = os.path.join(folder_path, file)\n",
    "            try:\n",
    "                # Read the Excel file\n",
    "                df = pd.read_excel(file_path)\n",
    "                dataframes.append(df)\n",
    "                print(f\"Read file: {file}\")\n",
    "            except Exception as e:\n",
    "                print(f\"Error reading {file}: {e}\")\n",
    "    \n",
    "    # Concatenate all DataFrames\n",
    "    if dataframes:\n",
    "        concatenated_df = pd.concat(dataframes, ignore_index=True)\n",
    "        print(\"Files concatenated successfully.\")\n",
    "        \n",
    "        try:\n",
    "            # Save to an Excel file\n",
    "            concatenated_df.to_excel(output_file, index=False, engine='openpyxl')\n",
    "            print(f\"Concatenated file saved as: {output_file}\")\n",
    "        except Exception as e:\n",
    "            print(f\"Error saving file: {e}\")\n",
    "    else:\n",
    "        print(\"No Excel files found in the folder.\")\n",
    "\n",
    "# Example usage\n",
    "folder_path = \"./Tiempos/\"  # Replace with the path to your folder\n",
    "output_file = \"./tiempos.xlsx\"  # Replace with the desired output file name\n",
    "read_and_concat_excel_files(folder_path, output_file)\n"
   ]
  },
  {
   "cell_type": "code",
   "execution_count": null,
   "metadata": {},
   "outputs": [],
   "source": [
    "import networkx as nx\n",
    "\n",
    "# Load the graphml file\n",
    "graph = nx.read_graphml(\"./grafosmerge/grafo_curro.graphml\")\n",
    "\n",
    "# Export the edges to a CSV file\n",
    "edges = nx.to_pandas_edgelist(graph)\n",
    "edges.to_csv(\"./edges/edges.csv\", index=False)\n",
    "\n",
    "# Export the nodes to a CSV file (if you need node attributes)\n",
    "nodes = pd.DataFrame(dict(graph.nodes(data=True))).T.reset_index()\n",
    "nodes.columns = [\"Node\"] + list(nodes.columns[1:])\n",
    "nodes.to_csv(\"./nodes/nodes.csv\", index=False)\n"
   ]
  },
  {
   "cell_type": "code",
   "execution_count": 7,
   "metadata": {},
   "outputs": [
    {
     "name": "stdout",
     "output_type": "stream",
     "text": [
      "Process completed! The common graph has been saved as 'common_graph.graphml', 'common_nodes.csv', and 'common_edges.csv'.\n"
     ]
    }
   ],
   "source": [
    "import networkx as nx\n",
    "import pandas as pd\n",
    "\n",
    "# Step 1: Load the Graphs\n",
    "graph1 = nx.read_graphml(\"./grafosmerge/grafo_curro.graphml\")\n",
    "graph2 = nx.read_graphml(\"./grafosmerge/grafo_amaia.graphml\")\n",
    "\n",
    "# Step 2: Find Common Nodes and Edges\n",
    "common_nodes = set(graph1.nodes()) & set(graph2.nodes())\n",
    "common_edges = set(graph1.edges()) & set(graph2.edges())\n",
    "\n",
    "# Step 3: Create a New Graph with Common Elements\n",
    "common_graph = nx.Graph()\n",
    "\n",
    "# Add common nodes\n",
    "common_graph.add_nodes_from(common_nodes)\n",
    "\n",
    "# Add common edges\n",
    "common_graph.add_edges_from(common_edges)\n",
    "\n",
    "# Step 4: Merge Attributes (Optional)\n",
    "# Combine node attributes\n",
    "for node in common_nodes:\n",
    "    attrs = {**graph1.nodes[node], **graph2.nodes[node]}  # Merge attributes\n",
    "    common_graph.nodes[node].update(attrs)\n",
    "\n",
    "# Combine edge attributes\n",
    "for edge in common_edges:\n",
    "    attrs = {**graph1.edges[edge], **graph2.edges[edge]}  # Merge attributes\n",
    "    common_graph.edges[edge].update(attrs)\n",
    "\n",
    "# Step 5: Save the Resulting Graph\n",
    "# Save as GraphML\n",
    "nx.write_graphml(common_graph, \"common_graph.graphml\")\n",
    "\n",
    "# Save nodes as CSV\n",
    "nodes_df = pd.DataFrame(dict(common_graph.nodes(data=True))).T.reset_index()\n",
    "nodes_df.columns = [\"Node\"] + list(nodes_df.columns[1:])\n",
    "nodes_df.to_csv(\"common_nodes.csv\", index=False)\n",
    "\n",
    "# Save edges as CSV\n",
    "edges_df = nx.to_pandas_edgelist(common_graph)\n",
    "edges_df.to_csv(\"common_edges.csv\", index=False)\n",
    "\n",
    "print(\"Process completed! The common graph has been saved as 'common_graph.graphml', 'common_nodes.csv', and 'common_edges.csv'.\")\n"
   ]
  },
  {
   "cell_type": "code",
   "execution_count": 8,
   "metadata": {},
   "outputs": [
    {
     "name": "stdout",
     "output_type": "stream",
     "text": [
      "Read file: Silvina_medium_long.xlsx\n",
      "Read file: Silvina_short_long.xlsx\n",
      "Read file: Silvina_short_medium.xlsx\n",
      "Files concatenated successfully.\n",
      "Concatenated file saved as: ./MadreAlex.xlsx\n"
     ]
    }
   ],
   "source": [
    "import os\n",
    "import pandas as pd\n",
    "\n",
    "def read_and_concat_excel_files(folder_path, output_file):\n",
    "    # List to hold DataFrames\n",
    "    dataframes = []\n",
    "    \n",
    "    # Loop through all files in the folder\n",
    "    for file in os.listdir(folder_path):\n",
    "        if file.endswith(\".xlsx\"):  # Check if the file is an Excel file\n",
    "            file_path = os.path.join(folder_path, file)\n",
    "            try:\n",
    "                # Read the Excel file\n",
    "                df = pd.read_excel(file_path)\n",
    "                dataframes.append(df)\n",
    "                print(f\"Read file: {file}\")\n",
    "            except Exception as e:\n",
    "                print(f\"Error reading {file}: {e}\")\n",
    "    \n",
    "    # Concatenate all DataFrames\n",
    "    if dataframes:\n",
    "        concatenated_df = pd.concat(dataframes, ignore_index=True)\n",
    "        print(\"Files concatenated successfully.\")\n",
    "        \n",
    "        try:\n",
    "            # Save to an Excel file\n",
    "            concatenated_df.to_excel(output_file, index=False, engine='openpyxl')\n",
    "            print(f\"Concatenated file saved as: {output_file}\")\n",
    "        except Exception as e:\n",
    "            print(f\"Error saving file: {e}\")\n",
    "    else:\n",
    "        print(\"No Excel files found in the folder.\")\n",
    "\n",
    "# Example usage\n",
    "folder_path = \"./esto/\"  # Replace with the path to your folder\n",
    "output_file = \"./MadreAlex.xlsx\"  # Replace with the desired output file name\n",
    "read_and_concat_excel_files(folder_path, output_file)\n"
   ]
  }
 ],
 "metadata": {
  "kernelspec": {
   "display_name": "Python 3",
   "language": "python",
   "name": "python3"
  },
  "language_info": {
   "codemirror_mode": {
    "name": "ipython",
    "version": 3
   },
   "file_extension": ".py",
   "mimetype": "text/x-python",
   "name": "python",
   "nbconvert_exporter": "python",
   "pygments_lexer": "ipython3",
   "version": "3.10.11"
  }
 },
 "nbformat": 4,
 "nbformat_minor": 2
}
